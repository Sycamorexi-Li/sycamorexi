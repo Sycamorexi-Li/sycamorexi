{
 "cells": [
  {
   "cell_type": "code",
   "execution_count": 1,
   "id": "81bc29e2-7b24-4eeb-92ae-3f1445db740f",
   "metadata": {},
   "outputs": [],
   "source": [
    "from sklearn.datasets import load_breast_cancer\n",
    "from sklearn.model_selection import train_test_split\n",
    "from sklearn.linear_model import LogisticRegression\n",
    "from sklearn.metrics import classification_report,accuracy_score"
   ]
  },
  {
   "cell_type": "code",
   "execution_count": 2,
   "id": "37e526d2-890a-46e2-b4c0-2dc47d8946be",
   "metadata": {},
   "outputs": [],
   "source": [
    "X,y=load_breast_cancer(return_X_y=True)"
   ]
  },
  {
   "cell_type": "code",
   "execution_count": 3,
   "id": "b04fded6-7e67-4241-ad34-15d7d70485dd",
   "metadata": {},
   "outputs": [],
   "source": [
    "X_train,X_test,y_train,y_test=train_test_split(\n",
    "    X,y,\n",
    "    train_size=0.875,test_size=0.125,random_state=188\n",
    ")"
   ]
  },
  {
   "cell_type": "code",
   "execution_count": 4,
   "id": "23c9e0b4-5f4a-4b6f-ad0c-715014677822",
   "metadata": {},
   "outputs": [
    {
     "data": {
      "text/plain": [
       "LogisticRegression(max_iter=3000, multi_class='ovr')"
      ]
     },
     "execution_count": 4,
     "metadata": {},
     "output_type": "execute_result"
    }
   ],
   "source": [
    "clf=LogisticRegression(\n",
    "    penalty=\"l2\",C=1.0,random_state=None,solver=\"lbfgs\",max_iter=3000,\n",
    "    multi_class='ovr',verbose=0,\n",
    ")\n",
    "\n",
    "clf.fit(X_train,y_train)"
   ]
  },
  {
   "cell_type": "code",
   "execution_count": 5,
   "id": "3ec68ef5-e9ae-4f47-bf04-9478af690474",
   "metadata": {},
   "outputs": [],
   "source": [
    "y_pred=clf.predict(X_test)"
   ]
  },
  {
   "cell_type": "code",
   "execution_count": 9,
   "id": "62946b9e-b054-48fb-ac4b-74f1c5d24e20",
   "metadata": {},
   "outputs": [
    {
     "name": "stdout",
     "output_type": "stream",
     "text": [
      "---report---\n",
      "              precision    recall  f1-score   support\n",
      "\n",
      "           0       0.96      0.96      0.96        27\n",
      "           1       0.98      0.98      0.98        45\n",
      "\n",
      "    accuracy                           0.97        72\n",
      "   macro avg       0.97      0.97      0.97        72\n",
      "weighted avg       0.97      0.97      0.97        72\n",
      "\n",
      "---params---\n",
      "[[ 0.89960769  0.17888852 -0.30396602  0.02572356 -0.17667936 -0.19319243\n",
      "  -0.56543832 -0.30645813 -0.25374937 -0.02428212 -0.07407326  1.09546992\n",
      "   0.11108786 -0.10663238 -0.02759738  0.0854027  -0.03498365 -0.0387471\n",
      "  -0.03079349  0.01957814  0.26004763 -0.45621821 -0.07916768 -0.01658918\n",
      "  -0.36072651 -0.6348124  -1.54604075 -0.6192092  -0.72734147 -0.06821056]] [28.59968311]\n",
      "---accuracy---\n",
      "0.9722222222222222\n"
     ]
    }
   ],
   "source": [
    "print('---report---')\n",
    "print(classification_report(y_test,y_pred))\n",
    "      \n",
    "print('---params---')\n",
    "print(clf.coef_,clf.intercept_)\n",
    "      \n",
    "print('---accuracy---')\n",
    "print(accuracy_score(y_test,y_pred))"
   ]
  },
  {
   "cell_type": "code",
   "execution_count": 20,
   "id": "e80a4bc1-5e15-4b45-a42a-d4c465605428",
   "metadata": {},
   "outputs": [],
   "source": [
    "import os\n",
    "from zhipuai import ZhipuAI\n",
    "import base64\n",
    "\n",
    "os.environ[\"ZHIPUAI_API_KEY\"]=\"459f4a6cc4133a7e38a5a81e67dc4002.NJUMkN1TCAlcMLq4\"\n",
    "\n",
    "client=ZhipuAI()"
   ]
  },
  {
   "cell_type": "code",
   "execution_count": 23,
   "id": "e4967cb8-9553-4225-86f0-f08399f64cea",
   "metadata": {},
   "outputs": [
    {
     "name": "stdout",
     "output_type": "stream",
     "text": [
      "通常来说，视频里截的响应时间较长，需要等待数十秒……\n",
      "CompletionMessage(content='世界各地有许多不同种类的冰淇淋,以下是其中一些常见的:\\n\\n1. 美式冰淇淋:通常含有较高的脂肪和糖分,口感丰富、浓郁。\\n\\n2. 意大利冰淇淋(Gelato):相对于美式冰淇淋,意大利冰淇淋通常含有较少的空气,因此质地更加密实。它也通常使用更多的牛奶而不是奶油,所以它的口感更轻盈。\\n\\n3. 法式冰淇淋:法式冰淇淋通常使用蛋黄作为基础,使其具有丰富的口感和金黄色泽。\\n\\n4. 日本冰淇淋:日本冰淇淋通常比其他国家的冰淇淋更小,而且口味非常多样化,包括抹茶、红豆等传统口味。\\n\\n5. 印度冰淇淋(Kulfi):印度冰淇淋通常不含鸡蛋或奶油,而是用浓稠的牛奶制成,口感更为浓稠。\\n\\n6. 阿根廷冰淇淋(Sorbet):阿根廷冰淇淋是一种无乳制品的冷冻甜品,通常由水果汁或果汁浓缩而成,口感清爽。\\n\\n这些冰淇淋的区别在于它们的成分、制作方法和口感。每种冰淇淋都有其独特的风味和文化背景。', role='assistant', tool_calls=None)\n"
     ]
    }
   ],
   "source": [
    "video_path=r\"C:\\Users\\admin\\Desktop\\video_1.mp4\"\n",
    "with open(video_path,'rb') as video_file:\n",
    "    video_base=base64.b64encode(video_file.read()).decode('utf-8')\n",
    "    \n",
    "print(\"通常来说，视频里截的响应时间较长，需要等待数十秒……\")\n",
    "\n",
    "response=client.chat.completions.create(\n",
    "    model=\"glm-4v-plus\",\n",
    "    temperature=0.0,\n",
    "    top_p=0,\n",
    "    \n",
    "    messages=[{\n",
    "        \"role\":\"user\",\n",
    "        \"content\":[{\n",
    "            \"type\":\"video_url\",\n",
    "            \"video_url\":{\"url\":video_base}\n",
    "        },{\n",
    "            \"type\":\"text\",\n",
    "            \"text\":\"请总结一下世界各地的冰淇淋，并yi列出区别给我\"\n",
    "        }]\n",
    "    }]\n",
    ")\n",
    "\n",
    "print(response.choices[0].message)"
   ]
  },
  {
   "cell_type": "code",
   "execution_count": null,
   "id": "f27a3cce-ec58-43af-a9d3-9577ac281400",
   "metadata": {},
   "outputs": [],
   "source": []
  }
 ],
 "metadata": {
  "kernelspec": {
   "display_name": "Python 3 (ipykernel)",
   "language": "python",
   "name": "python3"
  },
  "language_info": {
   "codemirror_mode": {
    "name": "ipython",
    "version": 3
   },
   "file_extension": ".py",
   "mimetype": "text/x-python",
   "name": "python",
   "nbconvert_exporter": "python",
   "pygments_lexer": "ipython3",
   "version": "3.9.7"
  }
 },
 "nbformat": 4,
 "nbformat_minor": 5
}
