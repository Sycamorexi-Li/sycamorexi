{
 "cells": [
  {
   "cell_type": "code",
   "execution_count": 1,
   "id": "f379d76f-79a2-4b2f-be16-14aad6b8e668",
   "metadata": {
    "tags": []
   },
   "outputs": [],
   "source": [
    "import torch\n",
    "import torch.nn as nn\n",
    "import torch.optim as optim\n",
    "import matplotlib.pyplot as plt\n",
    "import numpy as np"
   ]
  },
  {
   "cell_type": "code",
   "execution_count": 2,
   "id": "c02455bc-64cc-4640-bb2f-78e21126d5fd",
   "metadata": {
    "tags": []
   },
   "outputs": [],
   "source": [
    "# 生成随机数据\n",
    "X = np.random.rand(100, 1) * 10  # 100个样本，1个特征\n",
    "y = (X > 5).astype(int)  # 标签为0或1\n",
    "\n",
    "# 转换为PyTorch张量\n",
    "X_train = torch.tensor(X, dtype=torch.float32)\n",
    "y_train = torch.tensor(y, dtype=torch.float32).view(-1, 1)"
   ]
  },
  {
   "cell_type": "code",
   "execution_count": 3,
   "id": "22b5a911-9c93-481b-a923-38efb712856b",
   "metadata": {
    "tags": []
   },
   "outputs": [],
   "source": [
    "#定义线性回归模型\n",
    "class LogisticRegressionModel(nn.Module):\n",
    "    def __init__(self):\n",
    "        super(LogisticRegressionModel, self).__init__()\n",
    "        self.linear = nn.Linear(1, 1)  # 输入特征数为1，输出特征数为1\n",
    "\n",
    "    def forward(self, x):\n",
    "        x = self.linear(x)\n",
    "        return torch.sigmoid(x)  # 使用sigmoid函数将输出限制在0和1之间"
   ]
  },
  {
   "cell_type": "code",
   "execution_count": 4,
   "id": "282e78dd-21c9-49ca-9433-b4cc135bc41b",
   "metadata": {
    "tags": []
   },
   "outputs": [
    {
     "name": "stdout",
     "output_type": "stream",
     "text": [
      "Epoch [100/1000], Loss: 0.5733\n",
      "Epoch [200/1000], Loss: 0.5508\n",
      "Epoch [300/1000], Loss: 0.5301\n",
      "Epoch [400/1000], Loss: 0.5110\n",
      "Epoch [500/1000], Loss: 0.4933\n",
      "Epoch [600/1000], Loss: 0.4770\n",
      "Epoch [700/1000], Loss: 0.4619\n",
      "Epoch [800/1000], Loss: 0.4478\n",
      "Epoch [900/1000], Loss: 0.4348\n",
      "Epoch [1000/1000], Loss: 0.4227\n"
     ]
    }
   ],
   "source": [
    "#实例化模型\n",
    "model = LogisticRegressionModel()\n",
    "#定义损失函数（均方误差）\n",
    "criterion = nn.BCELoss()  # 二元交叉熵损失\n",
    "#选择优化器（梯度下降）\n",
    "optimizer = optim.SGD(model.parameters(), lr=0.01)  # 随机梯度下降\n",
    "\n",
    "# 训练模型\n",
    "for epoch in range(1000):\n",
    "    model.train()\n",
    "    optimizer.zero_grad()\n",
    "    outputs = model(X_train)\n",
    "    loss = criterion(outputs, y_train)\n",
    "    loss.backward()\n",
    "    optimizer.step()\n",
    "\n",
    "    if (epoch+1) % 100 == 0:\n",
    "        print(f'Epoch [{epoch+1}/1000], Loss: {loss.item():.4f}')"
   ]
  },
  {
   "cell_type": "code",
   "execution_count": null,
   "id": "7da0e474-b98b-449f-aa4f-ba820510627f",
   "metadata": {
    "tags": []
   },
   "outputs": [],
   "source": [
    "model.eval()\n",
    "with torch.no_grad():\n",
    "    predictions = model(X_train).numpy()\n",
    "\n",
    "plt.scatter(X, y, label='Data')\n",
    "plt.plot(X, predictions, color='r', label='Logistic Regression')\n",
    "plt.title('Logistic Regression')\n",
    "plt.xlabel('Feature')\n",
    "plt.ylabel('Probability')\n",
    "plt.legend()\n",
    "plt.show()"
   ]
  },
  {
   "cell_type": "code",
   "execution_count": null,
   "id": "78497d86-4093-46d0-805b-2f1f8ad02109",
   "metadata": {},
   "outputs": [],
   "source": []
  }
 ],
 "metadata": {
  "kernelspec": {
   "display_name": "Python 3 (ipykernel)",
   "language": "python",
   "name": "python3"
  },
  "language_info": {
   "codemirror_mode": {
    "name": "ipython",
    "version": 3
   },
   "file_extension": ".py",
   "mimetype": "text/x-python",
   "name": "python",
   "nbconvert_exporter": "python",
   "pygments_lexer": "ipython3",
   "version": "3.9.7"
  }
 },
 "nbformat": 4,
 "nbformat_minor": 5
}
